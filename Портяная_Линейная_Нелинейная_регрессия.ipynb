{
  "nbformat": 4,
  "nbformat_minor": 0,
  "metadata": {
    "colab": {
      "name": "Портяная Линейная/Нелинейная регрессия.ipynb",
      "provenance": [],
      "collapsed_sections": [],
      "authorship_tag": "ABX9TyMNEP6kKkZmQ4iu8W20LAH7",
      "include_colab_link": true
    },
    "kernelspec": {
      "name": "python3",
      "display_name": "Python 3"
    }
  },
  "cells": [
    {
      "cell_type": "markdown",
      "metadata": {
        "id": "view-in-github",
        "colab_type": "text"
      },
      "source": [
        "<a href=\"https://colab.research.google.com/github/Chainka-Mos/ML_Sandbox/blob/master/%D0%9F%D0%BE%D1%80%D1%82%D1%8F%D0%BD%D0%B0%D1%8F_%D0%9B%D0%B8%D0%BD%D0%B5%D0%B9%D0%BD%D0%B0%D1%8F_%D0%9D%D0%B5%D0%BB%D0%B8%D0%BD%D0%B5%D0%B9%D0%BD%D0%B0%D1%8F_%D1%80%D0%B5%D0%B3%D1%80%D0%B5%D1%81%D1%81%D0%B8%D1%8F.ipynb\" target=\"_parent\"><img src=\"https://colab.research.google.com/assets/colab-badge.svg\" alt=\"Open In Colab\"/></a>"
      ]
    },
    {
      "cell_type": "code",
      "metadata": {
        "id": "8I-apChWm_bx"
      },
      "source": [
        "import numpy as np\r\n",
        "import pandas as pd\r\n",
        "from sklearn.linear_model import LinearRegression"
      ],
      "execution_count": null,
      "outputs": []
    },
    {
      "cell_type": "code",
      "metadata": {
        "id": "KVO0ygROoFuO"
      },
      "source": [
        "#Первым делом зададим данные. Т.к. свобода выбора полная и абсолютная, возьмем цены закрытия акций Лукойл за первые 15 дней января 2019-го года и цены марки Брент того же периода. \r\n",
        "#Пусть за вектор экзогенных переменных X будет цена нефти Брент, за вектор эндогенных будет цена акций Лукойл"
      ],
      "execution_count": null,
      "outputs": []
    },
    {
      "cell_type": "code",
      "metadata": {
        "colab": {
          "base_uri": "https://localhost:8080/",
          "height": 1000
        },
        "id": "iyAOTdH3psSH",
        "outputId": "c1e0a6d2-e186-4259-af8c-10d67d564b81"
      },
      "source": [
        "Lukoil = [5070,5100,5200,5250,5300,5400,5310,5400,5300,5330,5300,5450,5150,5120,5140,5300,5215,5200,5120,4900,4700,5070,5100,5200,5250,5300,5400,5310,5400,5300,5330,5300,5450,5150,5120,5140,5300,5215,5200,5120,4900,4700]\r\n",
        "Brent = [54.8,55,56,56.2,56.8,57,56.5,56.7,56.2,56.25,56.1,56.65,55.8,55.5,55.6,55.7,55.9,55.1,57.2,55.1,55.1,54.8,55,56,56.2,56.8,57,56.5,56.7,56.2,56.25,56.1,56.65,55.8,55.5,55.6,55.7,55.9,55.1,57.2,55.1,55.1]\r\n",
        "data = {'Lukoil':Lukoil,'Brent':Brent}\r\n",
        "df = pd.DataFrame(data=data)\r\n",
        "df"
      ],
      "execution_count": null,
      "outputs": [
        {
          "output_type": "execute_result",
          "data": {
            "text/html": [
              "<div>\n",
              "<style scoped>\n",
              "    .dataframe tbody tr th:only-of-type {\n",
              "        vertical-align: middle;\n",
              "    }\n",
              "\n",
              "    .dataframe tbody tr th {\n",
              "        vertical-align: top;\n",
              "    }\n",
              "\n",
              "    .dataframe thead th {\n",
              "        text-align: right;\n",
              "    }\n",
              "</style>\n",
              "<table border=\"1\" class=\"dataframe\">\n",
              "  <thead>\n",
              "    <tr style=\"text-align: right;\">\n",
              "      <th></th>\n",
              "      <th>Lukoil</th>\n",
              "      <th>Brent</th>\n",
              "    </tr>\n",
              "  </thead>\n",
              "  <tbody>\n",
              "    <tr>\n",
              "      <th>0</th>\n",
              "      <td>5070</td>\n",
              "      <td>54.80</td>\n",
              "    </tr>\n",
              "    <tr>\n",
              "      <th>1</th>\n",
              "      <td>5100</td>\n",
              "      <td>55.00</td>\n",
              "    </tr>\n",
              "    <tr>\n",
              "      <th>2</th>\n",
              "      <td>5200</td>\n",
              "      <td>56.00</td>\n",
              "    </tr>\n",
              "    <tr>\n",
              "      <th>3</th>\n",
              "      <td>5250</td>\n",
              "      <td>56.20</td>\n",
              "    </tr>\n",
              "    <tr>\n",
              "      <th>4</th>\n",
              "      <td>5300</td>\n",
              "      <td>56.80</td>\n",
              "    </tr>\n",
              "    <tr>\n",
              "      <th>5</th>\n",
              "      <td>5400</td>\n",
              "      <td>57.00</td>\n",
              "    </tr>\n",
              "    <tr>\n",
              "      <th>6</th>\n",
              "      <td>5310</td>\n",
              "      <td>56.50</td>\n",
              "    </tr>\n",
              "    <tr>\n",
              "      <th>7</th>\n",
              "      <td>5400</td>\n",
              "      <td>56.70</td>\n",
              "    </tr>\n",
              "    <tr>\n",
              "      <th>8</th>\n",
              "      <td>5300</td>\n",
              "      <td>56.20</td>\n",
              "    </tr>\n",
              "    <tr>\n",
              "      <th>9</th>\n",
              "      <td>5330</td>\n",
              "      <td>56.25</td>\n",
              "    </tr>\n",
              "    <tr>\n",
              "      <th>10</th>\n",
              "      <td>5300</td>\n",
              "      <td>56.10</td>\n",
              "    </tr>\n",
              "    <tr>\n",
              "      <th>11</th>\n",
              "      <td>5450</td>\n",
              "      <td>56.65</td>\n",
              "    </tr>\n",
              "    <tr>\n",
              "      <th>12</th>\n",
              "      <td>5150</td>\n",
              "      <td>55.80</td>\n",
              "    </tr>\n",
              "    <tr>\n",
              "      <th>13</th>\n",
              "      <td>5120</td>\n",
              "      <td>55.50</td>\n",
              "    </tr>\n",
              "    <tr>\n",
              "      <th>14</th>\n",
              "      <td>5140</td>\n",
              "      <td>55.60</td>\n",
              "    </tr>\n",
              "    <tr>\n",
              "      <th>15</th>\n",
              "      <td>5300</td>\n",
              "      <td>55.70</td>\n",
              "    </tr>\n",
              "    <tr>\n",
              "      <th>16</th>\n",
              "      <td>5215</td>\n",
              "      <td>55.90</td>\n",
              "    </tr>\n",
              "    <tr>\n",
              "      <th>17</th>\n",
              "      <td>5200</td>\n",
              "      <td>55.10</td>\n",
              "    </tr>\n",
              "    <tr>\n",
              "      <th>18</th>\n",
              "      <td>5120</td>\n",
              "      <td>57.20</td>\n",
              "    </tr>\n",
              "    <tr>\n",
              "      <th>19</th>\n",
              "      <td>4900</td>\n",
              "      <td>55.10</td>\n",
              "    </tr>\n",
              "    <tr>\n",
              "      <th>20</th>\n",
              "      <td>4700</td>\n",
              "      <td>55.10</td>\n",
              "    </tr>\n",
              "    <tr>\n",
              "      <th>21</th>\n",
              "      <td>5070</td>\n",
              "      <td>54.80</td>\n",
              "    </tr>\n",
              "    <tr>\n",
              "      <th>22</th>\n",
              "      <td>5100</td>\n",
              "      <td>55.00</td>\n",
              "    </tr>\n",
              "    <tr>\n",
              "      <th>23</th>\n",
              "      <td>5200</td>\n",
              "      <td>56.00</td>\n",
              "    </tr>\n",
              "    <tr>\n",
              "      <th>24</th>\n",
              "      <td>5250</td>\n",
              "      <td>56.20</td>\n",
              "    </tr>\n",
              "    <tr>\n",
              "      <th>25</th>\n",
              "      <td>5300</td>\n",
              "      <td>56.80</td>\n",
              "    </tr>\n",
              "    <tr>\n",
              "      <th>26</th>\n",
              "      <td>5400</td>\n",
              "      <td>57.00</td>\n",
              "    </tr>\n",
              "    <tr>\n",
              "      <th>27</th>\n",
              "      <td>5310</td>\n",
              "      <td>56.50</td>\n",
              "    </tr>\n",
              "    <tr>\n",
              "      <th>28</th>\n",
              "      <td>5400</td>\n",
              "      <td>56.70</td>\n",
              "    </tr>\n",
              "    <tr>\n",
              "      <th>29</th>\n",
              "      <td>5300</td>\n",
              "      <td>56.20</td>\n",
              "    </tr>\n",
              "    <tr>\n",
              "      <th>30</th>\n",
              "      <td>5330</td>\n",
              "      <td>56.25</td>\n",
              "    </tr>\n",
              "    <tr>\n",
              "      <th>31</th>\n",
              "      <td>5300</td>\n",
              "      <td>56.10</td>\n",
              "    </tr>\n",
              "    <tr>\n",
              "      <th>32</th>\n",
              "      <td>5450</td>\n",
              "      <td>56.65</td>\n",
              "    </tr>\n",
              "    <tr>\n",
              "      <th>33</th>\n",
              "      <td>5150</td>\n",
              "      <td>55.80</td>\n",
              "    </tr>\n",
              "    <tr>\n",
              "      <th>34</th>\n",
              "      <td>5120</td>\n",
              "      <td>55.50</td>\n",
              "    </tr>\n",
              "    <tr>\n",
              "      <th>35</th>\n",
              "      <td>5140</td>\n",
              "      <td>55.60</td>\n",
              "    </tr>\n",
              "    <tr>\n",
              "      <th>36</th>\n",
              "      <td>5300</td>\n",
              "      <td>55.70</td>\n",
              "    </tr>\n",
              "    <tr>\n",
              "      <th>37</th>\n",
              "      <td>5215</td>\n",
              "      <td>55.90</td>\n",
              "    </tr>\n",
              "    <tr>\n",
              "      <th>38</th>\n",
              "      <td>5200</td>\n",
              "      <td>55.10</td>\n",
              "    </tr>\n",
              "    <tr>\n",
              "      <th>39</th>\n",
              "      <td>5120</td>\n",
              "      <td>57.20</td>\n",
              "    </tr>\n",
              "    <tr>\n",
              "      <th>40</th>\n",
              "      <td>4900</td>\n",
              "      <td>55.10</td>\n",
              "    </tr>\n",
              "    <tr>\n",
              "      <th>41</th>\n",
              "      <td>4700</td>\n",
              "      <td>55.10</td>\n",
              "    </tr>\n",
              "  </tbody>\n",
              "</table>\n",
              "</div>"
            ],
            "text/plain": [
              "    Lukoil  Brent\n",
              "0     5070  54.80\n",
              "1     5100  55.00\n",
              "2     5200  56.00\n",
              "3     5250  56.20\n",
              "4     5300  56.80\n",
              "5     5400  57.00\n",
              "6     5310  56.50\n",
              "7     5400  56.70\n",
              "8     5300  56.20\n",
              "9     5330  56.25\n",
              "10    5300  56.10\n",
              "11    5450  56.65\n",
              "12    5150  55.80\n",
              "13    5120  55.50\n",
              "14    5140  55.60\n",
              "15    5300  55.70\n",
              "16    5215  55.90\n",
              "17    5200  55.10\n",
              "18    5120  57.20\n",
              "19    4900  55.10\n",
              "20    4700  55.10\n",
              "21    5070  54.80\n",
              "22    5100  55.00\n",
              "23    5200  56.00\n",
              "24    5250  56.20\n",
              "25    5300  56.80\n",
              "26    5400  57.00\n",
              "27    5310  56.50\n",
              "28    5400  56.70\n",
              "29    5300  56.20\n",
              "30    5330  56.25\n",
              "31    5300  56.10\n",
              "32    5450  56.65\n",
              "33    5150  55.80\n",
              "34    5120  55.50\n",
              "35    5140  55.60\n",
              "36    5300  55.70\n",
              "37    5215  55.90\n",
              "38    5200  55.10\n",
              "39    5120  57.20\n",
              "40    4900  55.10\n",
              "41    4700  55.10"
            ]
          },
          "metadata": {
            "tags": []
          },
          "execution_count": 61
        }
      ]
    },
    {
      "cell_type": "code",
      "metadata": {
        "id": "vA6xiPrbrrbf"
      },
      "source": [
        "#Далее построим кор. поле, или по-другому диаграмму рассеивания"
      ],
      "execution_count": null,
      "outputs": []
    },
    {
      "cell_type": "code",
      "metadata": {
        "colab": {
          "base_uri": "https://localhost:8080/",
          "height": 281
        },
        "id": "AU4XJqNzr9Oh",
        "outputId": "e6be3643-f22c-4924-9870-a4301d682c74"
      },
      "source": [
        "import matplotlib.pyplot as plt\r\n",
        "plt.scatter((df['Lukoil']),(df['Brent']))#имеем вполне линейный, прямой характер связи!"
      ],
      "execution_count": null,
      "outputs": [
        {
          "output_type": "execute_result",
          "data": {
            "text/plain": [
              "<matplotlib.collections.PathCollection at 0x7f19479c2e10>"
            ]
          },
          "metadata": {
            "tags": []
          },
          "execution_count": 62
        },
        {
          "output_type": "display_data",
          "data": {
            "image/png": "[encoded data removed]",
            "text/plain": [
              "<Figure size 432x288 with 1 Axes>"
            ]
          },
          "metadata": {
            "tags": [],
            "needs_background": "light"
          }
        }
      ]
    },
    {
      "cell_type": "code",
      "metadata": {
        "colab": {
          "base_uri": "https://localhost:8080/",
          "height": 285
        },
        "id": "wOrdsnP9xymM",
        "outputId": "4c9f2af5-4244-419b-e819-0740f90ee261"
      },
      "source": [
        "#Также проверим на кор.связи\r\n",
        "import seaborn as sns\r\n",
        "sns.heatmap(df.corr(),annot = True)# связь почти под единичку, по шкале Чеддока это говорит о наличии сильной и устойчивой связи что хорошо для предиктивной модели"
      ],
      "execution_count": null,
      "outputs": [
        {
          "output_type": "execute_result",
          "data": {
            "text/plain": [
              "<matplotlib.axes._subplots.AxesSubplot at 0x7f195b1adb38>"
            ]
          },
          "metadata": {
            "tags": []
          },
          "execution_count": 26
        },
        {
          "output_type": "display_data",
          "data": {
            "image/png": "[encoded data removed]",
            "text/plain": [
              "<Figure size 432x288 with 2 Axes>"
            ]
          },
          "metadata": {
            "tags": [],
            "needs_background": "light"
          }
        }
      ]
    },
    {
      "cell_type": "code",
      "metadata": {
        "id": "kcuJ9bCMwmIW"
      },
      "source": [
        "#Далее для подбора наиболее оптимального коэффициента воспользуемся встроенными библиотеками, которые базируются на обычном МНК. Конечно, применение именно МНК необходимо обосновывать как минимум \r\n",
        "#проверкой постулатов теоремы Гаусса-Маркова, но т.к. в задании это явно сказано не было, то мы не станем усложнять себе жизнь и просто построим уравнение парной регрессии."
      ],
      "execution_count": null,
      "outputs": []
    },
    {
      "cell_type": "code",
      "metadata": {
        "id": "e4iuYEynxQoT",
        "colab": {
          "base_uri": "https://localhost:8080/",
          "height": 365
        },
        "outputId": "6a747275-724e-4533-87dc-1723781034c4"
      },
      "source": [
        "#Линейная регрессия с предварительной кросс-валидацией и обязательным разбитием на тренировочную и тестовую выборки в формате 80% на 20%\r\n",
        "from sklearn.linear_model import LinearRegression\r\n",
        "from sklearn.metrics import mean_squared_error, r2_score\r\n",
        "from sklearn.model_selection import train_test_split\r\n",
        "import statsmodels.api as sm\r\n",
        "Xtrn, Xtest, Ytrn, Ytest = train_test_split(df['Brent'],df['Lukoil'], test_size=0.2)\r\n",
        "gls = sm.OLS(Ytrn, Xtrn)\r\n",
        "gls_result = gls.fit()\r\n",
        "gls_result.summary() "
      ],
      "execution_count": null,
      "outputs": [
        {
          "output_type": "execute_result",
          "data": {
            "text/html": [
              "<table class=\"simpletable\">\n",
              "<caption>OLS Regression Results</caption>\n",
              "<tr>\n",
              "  <th>Dep. Variable:</th>         <td>Lukoil</td>      <th>  R-squared (uncentered):</th>      <td>   0.999</td> \n",
              "</tr>\n",
              "<tr>\n",
              "  <th>Model:</th>                   <td>OLS</td>       <th>  Adj. R-squared (uncentered):</th> <td>   0.999</td> \n",
              "</tr>\n",
              "<tr>\n",
              "  <th>Method:</th>             <td>Least Squares</td>  <th>  F-statistic:       </th>          <td>5.816e+04</td>\n",
              "</tr>\n",
              "<tr>\n",
              "  <th>Date:</th>             <td>Fri, 22 Jan 2021</td> <th>  Prob (F-statistic):</th>          <td>9.78e-54</td> \n",
              "</tr>\n",
              "<tr>\n",
              "  <th>Time:</th>                 <td>16:16:45</td>     <th>  Log-Likelihood:    </th>          <td> -205.47</td> \n",
              "</tr>\n",
              "<tr>\n",
              "  <th>No. Observations:</th>      <td>    33</td>      <th>  AIC:               </th>          <td>   412.9</td> \n",
              "</tr>\n",
              "<tr>\n",
              "  <th>Df Residuals:</th>          <td>    32</td>      <th>  BIC:               </th>          <td>   414.4</td> \n",
              "</tr>\n",
              "<tr>\n",
              "  <th>Df Model:</th>              <td>     1</td>      <th>                     </th>              <td> </td>    \n",
              "</tr>\n",
              "<tr>\n",
              "  <th>Covariance Type:</th>      <td>nonrobust</td>    <th>                     </th>              <td> </td>    \n",
              "</tr>\n",
              "</table>\n",
              "<table class=\"simpletable\">\n",
              "<tr>\n",
              "    <td></td>       <th>coef</th>     <th>std err</th>      <th>t</th>      <th>P>|t|</th>  <th>[0.025</th>    <th>0.975]</th>  \n",
              "</tr>\n",
              "<tr>\n",
              "  <th>Brent</th> <td>   93.2382</td> <td>    0.387</td> <td>  241.169</td> <td> 0.000</td> <td>   92.451</td> <td>   94.026</td>\n",
              "</tr>\n",
              "</table>\n",
              "<table class=\"simpletable\">\n",
              "<tr>\n",
              "  <th>Omnibus:</th>       <td>21.784</td> <th>  Durbin-Watson:     </th> <td>   2.172</td>\n",
              "</tr>\n",
              "<tr>\n",
              "  <th>Prob(Omnibus):</th> <td> 0.000</td> <th>  Jarque-Bera (JB):  </th> <td>  31.466</td>\n",
              "</tr>\n",
              "<tr>\n",
              "  <th>Skew:</th>          <td>-1.744</td> <th>  Prob(JB):          </th> <td>1.47e-07</td>\n",
              "</tr>\n",
              "<tr>\n",
              "  <th>Kurtosis:</th>      <td> 6.274</td> <th>  Cond. No.          </th> <td>    1.00</td>\n",
              "</tr>\n",
              "</table><br/><br/>Warnings:<br/>[1] Standard Errors assume that the covariance matrix of the errors is correctly specified."
            ],
            "text/plain": [
              "<class 'statsmodels.iolib.summary.Summary'>\n",
              "\"\"\"\n",
              "                                 OLS Regression Results                                \n",
              "=======================================================================================\n",
              "Dep. Variable:                 Lukoil   R-squared (uncentered):                   0.999\n",
              "Model:                            OLS   Adj. R-squared (uncentered):              0.999\n",
              "Method:                 Least Squares   F-statistic:                          5.816e+04\n",
              "Date:                Fri, 22 Jan 2021   Prob (F-statistic):                    9.78e-54\n",
              "Time:                        16:16:45   Log-Likelihood:                         -205.47\n",
              "No. Observations:                  33   AIC:                                      412.9\n",
              "Df Residuals:                      32   BIC:                                      414.4\n",
              "Df Model:                           1                                                  \n",
              "Covariance Type:            nonrobust                                                  \n",
              "==============================================================================\n",
              "                 coef    std err          t      P>|t|      [0.025      0.975]\n",
              "------------------------------------------------------------------------------\n",
              "Brent         93.2382      0.387    241.169      0.000      92.451      94.026\n",
              "==============================================================================\n",
              "Omnibus:                       21.784   Durbin-Watson:                   2.172\n",
              "Prob(Omnibus):                  0.000   Jarque-Bera (JB):               31.466\n",
              "Skew:                          -1.744   Prob(JB):                     1.47e-07\n",
              "Kurtosis:                       6.274   Cond. No.                         1.00\n",
              "==============================================================================\n",
              "\n",
              "Warnings:\n",
              "[1] Standard Errors assume that the covariance matrix of the errors is correctly specified.\n",
              "\"\"\""
            ]
          },
          "metadata": {
            "tags": []
          },
          "execution_count": 70
        }
      ]
    },
    {
      "cell_type": "code",
      "metadata": {
        "id": "ctgByhKE3yOn"
      },
      "source": [
        "#Что же мы имеем в таком случае? При правильно подобранных коэффициентах a0 и a1, где для уравнения вида y = a0*x+a1+e(где a1, правда, равен 0) коэф. a0 - предельные изменения y при изменении x на 1 единицу,\r\n",
        "# а a1 - коэффициент смещения, который покрывает постоянную разницу между y и x, коэффициент детерминации, даже смещенный на кол-во регрессоров демонстрирует великолепные 0.99, практически функциональную зависимость.\r\n",
        "# Статистическую гипотезу о достоверности выбранного уравнения регрессии можно сделать при помощи F-теста, где при альфа \r\n",
        "# на уровне 0.05 имеем Fконтрольное = 12.7, т.е. Ftest<Fконтр и уравнение признается значимым. Попутно мы также можем заявить, что выполняется первый постулат теоремы Г-М. Значимость экз. переменных\r\n",
        "# можно проверить при помощи T-теста, что также представлено в сводной таблице выше. При 0.975 имеем 93.955 => наш единственный регрессор значимый."
      ],
      "execution_count": null,
      "outputs": []
    },
    {
      "cell_type": "code",
      "metadata": {
        "colab": {
          "base_uri": "https://localhost:8080/"
        },
        "id": "VS3kqhrJ5Yl6",
        "outputId": "bf4e76f0-e175-43bd-c539-d103f5d7a0e7"
      },
      "source": [
        "# Финальный пункт - средн.относит.ошибка\r\n",
        "from sklearn.metrics import mean_absolute_error\r\n",
        "y_predicted = gls_result.predict(Xtest)\r\n",
        "mape = mean_absolute_error(Ytest, y_predicted) / Ytest.abs().sum()\r\n",
        "mape\r\n",
        "#величина по сравнению с нашим Y, который различается день от дня обычно на величины 0.2 и выше, небольшая. Полученное уравнение регресси Y = 93.13X + e может быть использовано как предиктивное."
      ],
      "execution_count": null,
      "outputs": [
        {
          "output_type": "execute_result",
          "data": {
            "text/plain": [
              "0.0023525731184589832"
            ]
          },
          "metadata": {
            "tags": []
          },
          "execution_count": 69
        }
      ]
    },
    {
      "cell_type": "code",
      "metadata": {
        "colab": {
          "base_uri": "https://localhost:8080/",
          "height": 281
        },
        "id": "YrpSQ-JH7UIB",
        "outputId": "f5467924-ceec-4bea-8066-863d2b92c056"
      },
      "source": [
        "#Перейдем к задаче 2. Начнем с лог.модели, т.е. изменим x на lnx. По-идеи это должно помочь нам справиться с выбросами, которые были заметны на графике.\r\n",
        "data = {'Lukoil':Lukoil,'Brent':np.log(Brent)}\r\n",
        "df = pd.DataFrame(data=data)\r\n",
        "plt.scatter((df['Lukoil']),(df['Brent']))#фактически, не изменилось ничего..."
      ],
      "execution_count": null,
      "outputs": [
        {
          "output_type": "execute_result",
          "data": {
            "text/plain": [
              "<matplotlib.collections.PathCollection at 0x7f19478ec320>"
            ]
          },
          "metadata": {
            "tags": []
          },
          "execution_count": 73
        },
        {
          "output_type": "display_data",
          "data": {
            "image/png": "[encoded data removed]",
            "text/plain": [
              "<Figure size 432x288 with 1 Axes>"
            ]
          },
          "metadata": {
            "tags": [],
            "needs_background": "light"
          }
        }
      ]
    },
    {
      "cell_type": "code",
      "metadata": {
        "id": "zKJo_uSv8X0u",
        "colab": {
          "base_uri": "https://localhost:8080/",
          "height": 365
        },
        "outputId": "44e425c9-78cf-4105-d362-8a3c4dc0cd7c"
      },
      "source": [
        "##неЛинейная ln-регрессия с предварительной кросс-валидацией и обязательным разбитием на тренировочную и тестовую выборки в формате 80% на 20%\r\n",
        "Xtrn, Xtest, Ytrn, Ytest = train_test_split(df['Brent'],df['Lukoil'], test_size=0.2)\r\n",
        "gls = sm.OLS(Ytrn, Xtrn)\r\n",
        "gls_result = gls.fit()\r\n",
        "gls_result.summary() "
      ],
      "execution_count": null,
      "outputs": [
        {
          "output_type": "execute_result",
          "data": {
            "text/html": [
              "<table class=\"simpletable\">\n",
              "<caption>OLS Regression Results</caption>\n",
              "<tr>\n",
              "  <th>Dep. Variable:</th>         <td>Lukoil</td>      <th>  R-squared (uncentered):</th>      <td>   0.999</td> \n",
              "</tr>\n",
              "<tr>\n",
              "  <th>Model:</th>                   <td>OLS</td>       <th>  Adj. R-squared (uncentered):</th> <td>   0.999</td> \n",
              "</tr>\n",
              "<tr>\n",
              "  <th>Method:</th>             <td>Least Squares</td>  <th>  F-statistic:       </th>          <td>4.478e+04</td>\n",
              "</tr>\n",
              "<tr>\n",
              "  <th>Date:</th>             <td>Fri, 22 Jan 2021</td> <th>  Prob (F-statistic):</th>          <td>6.40e-52</td> \n",
              "</tr>\n",
              "<tr>\n",
              "  <th>Time:</th>                 <td>16:24:39</td>     <th>  Log-Likelihood:    </th>          <td> -209.86</td> \n",
              "</tr>\n",
              "<tr>\n",
              "  <th>No. Observations:</th>      <td>    33</td>      <th>  AIC:               </th>          <td>   421.7</td> \n",
              "</tr>\n",
              "<tr>\n",
              "  <th>Df Residuals:</th>          <td>    32</td>      <th>  BIC:               </th>          <td>   423.2</td> \n",
              "</tr>\n",
              "<tr>\n",
              "  <th>Df Model:</th>              <td>     1</td>      <th>                     </th>              <td> </td>    \n",
              "</tr>\n",
              "<tr>\n",
              "  <th>Covariance Type:</th>      <td>nonrobust</td>    <th>                     </th>              <td> </td>    \n",
              "</tr>\n",
              "</table>\n",
              "<table class=\"simpletable\">\n",
              "<tr>\n",
              "    <td></td>       <th>coef</th>     <th>std err</th>      <th>t</th>      <th>P>|t|</th>  <th>[0.025</th>    <th>0.975]</th>  \n",
              "</tr>\n",
              "<tr>\n",
              "  <th>Brent</th> <td> 1299.1243</td> <td>    6.139</td> <td>  211.610</td> <td> 0.000</td> <td> 1286.619</td> <td> 1311.630</td>\n",
              "</tr>\n",
              "</table>\n",
              "<table class=\"simpletable\">\n",
              "<tr>\n",
              "  <th>Omnibus:</th>       <td>19.840</td> <th>  Durbin-Watson:     </th> <td>   1.948</td>\n",
              "</tr>\n",
              "<tr>\n",
              "  <th>Prob(Omnibus):</th> <td> 0.000</td> <th>  Jarque-Bera (JB):  </th> <td>  29.500</td>\n",
              "</tr>\n",
              "<tr>\n",
              "  <th>Skew:</th>          <td>-1.514</td> <th>  Prob(JB):          </th> <td>3.93e-07</td>\n",
              "</tr>\n",
              "<tr>\n",
              "  <th>Kurtosis:</th>      <td> 6.505</td> <th>  Cond. No.          </th> <td>    1.00</td>\n",
              "</tr>\n",
              "</table><br/><br/>Warnings:<br/>[1] Standard Errors assume that the covariance matrix of the errors is correctly specified."
            ],
            "text/plain": [
              "<class 'statsmodels.iolib.summary.Summary'>\n",
              "\"\"\"\n",
              "                                 OLS Regression Results                                \n",
              "=======================================================================================\n",
              "Dep. Variable:                 Lukoil   R-squared (uncentered):                   0.999\n",
              "Model:                            OLS   Adj. R-squared (uncentered):              0.999\n",
              "Method:                 Least Squares   F-statistic:                          4.478e+04\n",
              "Date:                Fri, 22 Jan 2021   Prob (F-statistic):                    6.40e-52\n",
              "Time:                        16:24:39   Log-Likelihood:                         -209.86\n",
              "No. Observations:                  33   AIC:                                      421.7\n",
              "Df Residuals:                      32   BIC:                                      423.2\n",
              "Df Model:                           1                                                  \n",
              "Covariance Type:            nonrobust                                                  \n",
              "==============================================================================\n",
              "                 coef    std err          t      P>|t|      [0.025      0.975]\n",
              "------------------------------------------------------------------------------\n",
              "Brent       1299.1243      6.139    211.610      0.000    1286.619    1311.630\n",
              "==============================================================================\n",
              "Omnibus:                       19.840   Durbin-Watson:                   1.948\n",
              "Prob(Omnibus):                  0.000   Jarque-Bera (JB):               29.500\n",
              "Skew:                          -1.514   Prob(JB):                     3.93e-07\n",
              "Kurtosis:                       6.505   Cond. No.                         1.00\n",
              "==============================================================================\n",
              "\n",
              "Warnings:\n",
              "[1] Standard Errors assume that the covariance matrix of the errors is correctly specified.\n",
              "\"\"\""
            ]
          },
          "metadata": {
            "tags": []
          },
          "execution_count": 74
        }
      ]
    },
    {
      "cell_type": "code",
      "metadata": {
        "colab": {
          "base_uri": "https://localhost:8080/",
          "height": 365
        },
        "id": "P2y3kg1j9B0N",
        "outputId": "913ea05b-818a-4a11-c78a-b9ff94bf06d7"
      },
      "source": [
        "#гиперболич. модель\r\n",
        "data = {'Lukoil':Lukoil,'Brent':Brent}\r\n",
        "df = pd.DataFrame(data=data)\r\n",
        "df['Brent'] = df['Brent']*0.1\r\n",
        "##неЛинейная гипербол-регрессия с предварительной кросс-валидацией и обязательным разбитием на тренировочную и тестовую выборки в формате 80% на 20%\r\n",
        "Xtrn, Xtest, Ytrn, Ytest = train_test_split(df['Brent'],df['Lukoil'], test_size=0.2)\r\n",
        "gls = sm.OLS(Ytrn, Xtrn)\r\n",
        "gls_result = gls.fit()\r\n",
        "gls_result.summary() "
      ],
      "execution_count": null,
      "outputs": [
        {
          "output_type": "execute_result",
          "data": {
            "text/html": [
              "<table class=\"simpletable\">\n",
              "<caption>OLS Regression Results</caption>\n",
              "<tr>\n",
              "  <th>Dep. Variable:</th>         <td>Lukoil</td>      <th>  R-squared (uncentered):</th>      <td>   0.999</td> \n",
              "</tr>\n",
              "<tr>\n",
              "  <th>Model:</th>                   <td>OLS</td>       <th>  Adj. R-squared (uncentered):</th> <td>   0.999</td> \n",
              "</tr>\n",
              "<tr>\n",
              "  <th>Method:</th>             <td>Least Squares</td>  <th>  F-statistic:       </th>          <td>4.263e+04</td>\n",
              "</tr>\n",
              "<tr>\n",
              "  <th>Date:</th>             <td>Fri, 22 Jan 2021</td> <th>  Prob (F-statistic):</th>          <td>1.40e-51</td> \n",
              "</tr>\n",
              "<tr>\n",
              "  <th>Time:</th>                 <td>16:29:47</td>     <th>  Log-Likelihood:    </th>          <td> -210.29</td> \n",
              "</tr>\n",
              "<tr>\n",
              "  <th>No. Observations:</th>      <td>    33</td>      <th>  AIC:               </th>          <td>   422.6</td> \n",
              "</tr>\n",
              "<tr>\n",
              "  <th>Df Residuals:</th>          <td>    32</td>      <th>  BIC:               </th>          <td>   424.1</td> \n",
              "</tr>\n",
              "<tr>\n",
              "  <th>Df Model:</th>              <td>     1</td>      <th>                     </th>              <td> </td>    \n",
              "</tr>\n",
              "<tr>\n",
              "  <th>Covariance Type:</th>      <td>nonrobust</td>    <th>                     </th>              <td> </td>    \n",
              "</tr>\n",
              "</table>\n",
              "<table class=\"simpletable\">\n",
              "<tr>\n",
              "    <td></td>       <th>coef</th>     <th>std err</th>      <th>t</th>      <th>P>|t|</th>  <th>[0.025</th>    <th>0.975]</th>  \n",
              "</tr>\n",
              "<tr>\n",
              "  <th>Brent</th> <td>  925.4084</td> <td>    4.482</td> <td>  206.478</td> <td> 0.000</td> <td>  916.279</td> <td>  934.538</td>\n",
              "</tr>\n",
              "</table>\n",
              "<table class=\"simpletable\">\n",
              "<tr>\n",
              "  <th>Omnibus:</th>       <td>12.750</td> <th>  Durbin-Watson:     </th> <td>   2.378</td>\n",
              "</tr>\n",
              "<tr>\n",
              "  <th>Prob(Omnibus):</th> <td> 0.002</td> <th>  Jarque-Bera (JB):  </th> <td>  12.447</td>\n",
              "</tr>\n",
              "<tr>\n",
              "  <th>Skew:</th>          <td>-1.283</td> <th>  Prob(JB):          </th> <td> 0.00198</td>\n",
              "</tr>\n",
              "<tr>\n",
              "  <th>Kurtosis:</th>      <td> 4.570</td> <th>  Cond. No.          </th> <td>    1.00</td>\n",
              "</tr>\n",
              "</table><br/><br/>Warnings:<br/>[1] Standard Errors assume that the covariance matrix of the errors is correctly specified."
            ],
            "text/plain": [
              "<class 'statsmodels.iolib.summary.Summary'>\n",
              "\"\"\"\n",
              "                                 OLS Regression Results                                \n",
              "=======================================================================================\n",
              "Dep. Variable:                 Lukoil   R-squared (uncentered):                   0.999\n",
              "Model:                            OLS   Adj. R-squared (uncentered):              0.999\n",
              "Method:                 Least Squares   F-statistic:                          4.263e+04\n",
              "Date:                Fri, 22 Jan 2021   Prob (F-statistic):                    1.40e-51\n",
              "Time:                        16:29:47   Log-Likelihood:                         -210.29\n",
              "No. Observations:                  33   AIC:                                      422.6\n",
              "Df Residuals:                      32   BIC:                                      424.1\n",
              "Df Model:                           1                                                  \n",
              "Covariance Type:            nonrobust                                                  \n",
              "==============================================================================\n",
              "                 coef    std err          t      P>|t|      [0.025      0.975]\n",
              "------------------------------------------------------------------------------\n",
              "Brent        925.4084      4.482    206.478      0.000     916.279     934.538\n",
              "==============================================================================\n",
              "Omnibus:                       12.750   Durbin-Watson:                   2.378\n",
              "Prob(Omnibus):                  0.002   Jarque-Bera (JB):               12.447\n",
              "Skew:                          -1.283   Prob(JB):                      0.00198\n",
              "Kurtosis:                       4.570   Cond. No.                         1.00\n",
              "==============================================================================\n",
              "\n",
              "Warnings:\n",
              "[1] Standard Errors assume that the covariance matrix of the errors is correctly specified.\n",
              "\"\"\""
            ]
          },
          "metadata": {
            "tags": []
          },
          "execution_count": 90
        }
      ]
    },
    {
      "cell_type": "code",
      "metadata": {
        "colab": {
          "base_uri": "https://localhost:8080/",
          "height": 365
        },
        "id": "96bqFbt5-NH4",
        "outputId": "feb53399-a7b2-4399-b71d-c5f78571d33c"
      },
      "source": [
        "#степенная модель\r\n",
        "data = {'Lukoil':Lukoil,'Brent':Brent}\r\n",
        "df = pd.DataFrame(data=data)\r\n",
        "df['Brent'] = np.log(df['Brent'])\r\n",
        "df['Lukoil'] = np.log(df['Lukoil'])\r\n",
        "##неЛинейная гипербол-регрессия с предварительной кросс-валидацией и обязательным разбитием на тренировочную и тестовую выборки в формате 80% на 20%\r\n",
        "from sklearn.linear_model import LinearRegression\r\n",
        "from sklearn.metrics import mean_squared_error, r2_score\r\n",
        "from sklearn.model_selection import train_test_split\r\n",
        "import statsmodels.api as sm\r\n",
        "Xtrn, Xtest, Ytrn, Ytest = train_test_split(df['Brent'],df['Lukoil'], test_size=0.2)\r\n",
        "gls = sm.OLS(Ytrn, Xtrn)\r\n",
        "gls_result = gls.fit()\r\n",
        "gls_result.summary() "
      ],
      "execution_count": null,
      "outputs": [
        {
          "output_type": "execute_result",
          "data": {
            "text/html": [
              "<table class=\"simpletable\">\n",
              "<caption>OLS Regression Results</caption>\n",
              "<tr>\n",
              "  <th>Dep. Variable:</th>         <td>Lukoil</td>      <th>  R-squared (uncentered):</th>      <td>   1.000</td> \n",
              "</tr>\n",
              "<tr>\n",
              "  <th>Model:</th>                   <td>OLS</td>       <th>  Adj. R-squared (uncentered):</th> <td>   1.000</td> \n",
              "</tr>\n",
              "<tr>\n",
              "  <th>Method:</th>             <td>Least Squares</td>  <th>  F-statistic:       </th>          <td>3.489e+06</td>\n",
              "</tr>\n",
              "<tr>\n",
              "  <th>Date:</th>             <td>Fri, 22 Jan 2021</td> <th>  Prob (F-statistic):</th>          <td>3.50e-82</td> \n",
              "</tr>\n",
              "<tr>\n",
              "  <th>Time:</th>                 <td>16:31:42</td>     <th>  Log-Likelihood:    </th>          <td>  73.722</td> \n",
              "</tr>\n",
              "<tr>\n",
              "  <th>No. Observations:</th>      <td>    33</td>      <th>  AIC:               </th>          <td>  -145.4</td> \n",
              "</tr>\n",
              "<tr>\n",
              "  <th>Df Residuals:</th>          <td>    32</td>      <th>  BIC:               </th>          <td>  -143.9</td> \n",
              "</tr>\n",
              "<tr>\n",
              "  <th>Df Model:</th>              <td>     1</td>      <th>                     </th>              <td> </td>    \n",
              "</tr>\n",
              "<tr>\n",
              "  <th>Covariance Type:</th>      <td>nonrobust</td>    <th>                     </th>              <td> </td>    \n",
              "</tr>\n",
              "</table>\n",
              "<table class=\"simpletable\">\n",
              "<tr>\n",
              "    <td></td>       <th>coef</th>     <th>std err</th>      <th>t</th>      <th>P>|t|</th>  <th>[0.025</th>    <th>0.975]</th>  \n",
              "</tr>\n",
              "<tr>\n",
              "  <th>Brent</th> <td>    2.1253</td> <td>    0.001</td> <td> 1867.951</td> <td> 0.000</td> <td>    2.123</td> <td>    2.128</td>\n",
              "</tr>\n",
              "</table>\n",
              "<table class=\"simpletable\">\n",
              "<tr>\n",
              "  <th>Omnibus:</th>       <td>14.622</td> <th>  Durbin-Watson:     </th> <td>   1.503</td>\n",
              "</tr>\n",
              "<tr>\n",
              "  <th>Prob(Omnibus):</th> <td> 0.001</td> <th>  Jarque-Bera (JB):  </th> <td>  15.107</td>\n",
              "</tr>\n",
              "<tr>\n",
              "  <th>Skew:</th>          <td>-1.496</td> <th>  Prob(JB):          </th> <td>0.000524</td>\n",
              "</tr>\n",
              "<tr>\n",
              "  <th>Kurtosis:</th>      <td> 4.428</td> <th>  Cond. No.          </th> <td>    1.00</td>\n",
              "</tr>\n",
              "</table><br/><br/>Warnings:<br/>[1] Standard Errors assume that the covariance matrix of the errors is correctly specified."
            ],
            "text/plain": [
              "<class 'statsmodels.iolib.summary.Summary'>\n",
              "\"\"\"\n",
              "                                 OLS Regression Results                                \n",
              "=======================================================================================\n",
              "Dep. Variable:                 Lukoil   R-squared (uncentered):                   1.000\n",
              "Model:                            OLS   Adj. R-squared (uncentered):              1.000\n",
              "Method:                 Least Squares   F-statistic:                          3.489e+06\n",
              "Date:                Fri, 22 Jan 2021   Prob (F-statistic):                    3.50e-82\n",
              "Time:                        16:31:42   Log-Likelihood:                          73.722\n",
              "No. Observations:                  33   AIC:                                     -145.4\n",
              "Df Residuals:                      32   BIC:                                     -143.9\n",
              "Df Model:                           1                                                  \n",
              "Covariance Type:            nonrobust                                                  \n",
              "==============================================================================\n",
              "                 coef    std err          t      P>|t|      [0.025      0.975]\n",
              "------------------------------------------------------------------------------\n",
              "Brent          2.1253      0.001   1867.951      0.000       2.123       2.128\n",
              "==============================================================================\n",
              "Omnibus:                       14.622   Durbin-Watson:                   1.503\n",
              "Prob(Omnibus):                  0.001   Jarque-Bera (JB):               15.107\n",
              "Skew:                          -1.496   Prob(JB):                     0.000524\n",
              "Kurtosis:                       4.428   Cond. No.                         1.00\n",
              "==============================================================================\n",
              "\n",
              "Warnings:\n",
              "[1] Standard Errors assume that the covariance matrix of the errors is correctly specified.\n",
              "\"\"\""
            ]
          },
          "metadata": {
            "tags": []
          },
          "execution_count": 92
        }
      ]
    },
    {
      "cell_type": "code",
      "metadata": {
        "colab": {
          "base_uri": "https://localhost:8080/"
        },
        "id": "anYeP6Q--_zL",
        "outputId": "668085bc-de47-4763-c074-21d9a4004237"
      },
      "source": [
        "y_predicted = gls_result.predict(Xtest)\r\n",
        "mape = mean_absolute_error(Ytest, y_predicted) / Ytest.abs().sum()\r\n",
        "mape"
      ],
      "execution_count": null,
      "outputs": [
        {
          "output_type": "execute_result",
          "data": {
            "text/plain": [
              "0.00023584616070910532"
            ]
          },
          "metadata": {
            "tags": []
          },
          "execution_count": 93
        }
      ]
    },
    {
      "cell_type": "code",
      "metadata": {
        "id": "BsYkbMXK-o8v"
      },
      "source": [
        "#Разве что на последней из моделей, степенной, получаем фактически функциональную связь(R^2 = 1), прекрасную F и T статистики и еще более маленькую ошибку аппроксимации.\r\n",
        "# Стоит отметить, что во всех случаях такие высокие показатели были обусловлены во-первых искусственностью данных, во-вторых малым объемом выборки, а в последнем случае к тому же залогорифмированностью\r\n",
        "#всех показателей. При обратном переходе к нелин.модели с большой вероятностью результаты сравняются с другими моделями.\r\n",
        "#Подытоживая оба задания можно смело заявлять, что с эконометрической точки зрения зависимость y от x(Лукойл и брент) является сильной линейной, и парной регресси тут будет абсолюнто достаточно."
      ],
      "execution_count": null,
      "outputs": []
    }
  ]
}