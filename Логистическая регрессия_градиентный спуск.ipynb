{
 "cells": [
  {
   "cell_type": "code",
   "execution_count": 3,
   "metadata": {},
   "outputs": [],
   "source": [
    "import pandas as pd\n",
    "import numpy as np\n",
    "import matplotlib.pyplot as plt\n",
    "import seaborn as sns\n",
    "import math"
   ]
  },
  {
   "cell_type": "code",
   "execution_count": 4,
   "metadata": {},
   "outputs": [],
   "source": [
    "data = pd.read_csv(r'C:\\Users\\User\\Downloads\\logit_data.csv',header = None)"
   ]
  },
  {
   "cell_type": "code",
   "execution_count": 30,
   "metadata": {},
   "outputs": [],
   "source": [
    "class Hypoth:#градиентный спуск для логит-регрессии\n",
    "  def __init__(self):\n",
    "    self.a = 0\n",
    "    self.b = 0\n",
    "  def predict(self, x1,x2):\n",
    "    return 1/(1+np.exp(-self.a*x1-self.b*x2))\n",
    "  def error(self,x1,x2,y):\n",
    "    return 1/len(y)*sum(np.log(1+np.exp(-y*(self.a*x1+self.b*x2))))+5*(self.a**2+self.b**2)\n",
    "  def BGD (self, x1,x2, y,k):\n",
    "    old_a = 10\n",
    "    old_b = 10\n",
    "    while ((old_a-self.a)**2+(old_b-self.b)**2)**(1/2)>1e-5:\n",
    "        old_a = self.a\n",
    "        old_b = self.b\n",
    "        dJ0 = k*(1/len(y))*sum(y*x1*(1-(1/(1+np.exp(-y*(self.a*x1+self.b*x2))))))\n",
    "        dJ1 = k*(1/len(y))*sum(y*x2*(1-(1/(1+np.exp(-y*(self.a*x1+self.b*x2))))))\n",
    "        self.a +=(dJ0-k*10*self.a)\n",
    "        self.b +=(dJ1-k*10*self.b)"
   ]
  },
  {
   "cell_type": "code",
   "execution_count": 31,
   "metadata": {},
   "outputs": [
    {
     "data": {
      "text/plain": [
       "0.9362857142857142"
      ]
     },
     "execution_count": 31,
     "metadata": {},
     "output_type": "execute_result"
    }
   ],
   "source": [
    "import sklearn.metrics\n",
    "model = Hypoth()\n",
    "model.BGD(data[1],data[2],data[0],0.1)\n",
    "model.predict(data[1],data[2])\n",
    "sklearn.metrics.roc_auc_score(data[0],model.predict(data[1],data[2]))\n"
   ]
  }
 ],
 "metadata": {
  "kernelspec": {
   "display_name": "Python 3",
   "language": "python",
   "name": "python3"
  },
  "language_info": {
   "codemirror_mode": {
    "name": "ipython",
    "version": 3
   },
   "file_extension": ".py",
   "mimetype": "text/x-python",
   "name": "python",
   "nbconvert_exporter": "python",
   "pygments_lexer": "ipython3",
   "version": "3.7.1"
  }
 },
 "nbformat": 4,
 "nbformat_minor": 2
}
